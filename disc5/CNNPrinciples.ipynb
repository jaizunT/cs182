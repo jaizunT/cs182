{
  "cells": [
    {
      "cell_type": "markdown",
      "metadata": {
        "id": "view-in-github",
        "colab_type": "text"
      },
      "source": [
        "<a href=\"https://colab.research.google.com/github/jaizunT/cs182/blob/main/disc5/CNNPrinciples.ipynb\" target=\"_parent\"><img src=\"https://colab.research.google.com/assets/colab-badge.svg\" alt=\"Open In Colab\"/></a>"
      ]
    },
    {
      "cell_type": "markdown",
      "metadata": {
        "id": "CkxcyKnSPOv0"
      },
      "source": [
        "# Principles of CNN\n",
        "\n",
        "Many materials are from Deep Learning book (Ian Goodfellow, Yoshua Bengio and Aaron Courville)\n",
        "\n",
        "Why does CNN perform better than MLP (Multilayer Perceptron) in various modalities? In this notebook, you will understand the principle of CNN through various examples and experiments. The three most distinct features that differentiate CNN from MLP are as follows:\n",
        "\n",
        "1. **sparse interactions** : Unlike the MLP model, which had to calculate the interactions between all neurons using matrix multiplication, CNN has sparse interactions. This is achieved by using smaller kernels in comparison to the resolution of the input image. This means that CNN can greatly reduce the amount of computation and memory requirements and improve statistical efficiency. This is also called sparse connectivity or sparse weights.\n",
        "\n",
        "\n",
        "2. **parameter sharing** : Parameter sharing means using the same parameters more than once within a model. In the case of MLP, all parameters are used only once when calculating the output within one layer. This reduces the memory used to store parameters.\n",
        "\n",
        "\n",
        "3. **translational equivariance** : Parameter sharing in convolution operation makes the convolution layer equivariant to translation of given input. When a function is equivariant to some operation, it means that when the input changes as much as the given operation, the output of the function also changes in the same way. To explain it more formally, if a function $f(x)$ is equivariant to a transformation $g(x)$, then $f(g(x)) = g(f(x))$. In the case of convolution, $g(x)$ is the translation of the input $x$.\n",
        "\n",
        "    While convolution is equivariant to translation, it is not equivariant to other transformations such as rotation, scale, or warping. Therefore, various regularizations such as data augmentations are used to obtain CNN functions that are robust to such transformations during training. However, this will not be covered in this notebook.\n",
        "\n"
      ]
    },
    {
      "cell_type": "code",
      "execution_count": 1,
      "metadata": {
        "id": "JNB5XPoVPOv2"
      },
      "outputs": [],
      "source": [
        "# As usual, a bit of setup\n",
        "\n",
        "import IPython\n",
        "from IPython.display import display, HTML\n",
        "\n",
        "import torch\n",
        "import torch.nn as nn\n",
        "import torch.optim as optim\n",
        "import torch.nn.functional as F\n",
        "from torch.utils.data import DataLoader\n",
        "from torch.utils.data import sampler\n",
        "\n",
        "import torchvision.datasets as dset\n",
        "import torchvision.transforms as T\n",
        "%matplotlib inline\n",
        "\n",
        "import matplotlib.pyplot as plt\n",
        "import numpy as np\n",
        "import random\n",
        "\n",
        "seed = 7\n",
        "torch.manual_seed(seed)\n",
        "random.seed(seed)\n",
        "np.random.seed(seed)\n",
        "\n",
        "# for auto-reloading external modules\n",
        "# see http://stackoverflow.com/questions/1907993/autoreload-of-modules-in-ipython\n",
        "# %load_ext autoreload\n",
        "# %autoreload 2"
      ]
    },
    {
      "cell_type": "markdown",
      "metadata": {
        "id": "tuqj0p1SPOv3"
      },
      "source": [
        "## MLP vs CNN\n",
        "\n",
        "In this problem, we will learn why the properties that CNN have lead to better performance on the vision modality by comparing it with MLP.\n",
        "\n",
        "The number of parameters is the rule of thumb to compare the expressiveness of the neural network. So we are now comparing MLP and CNN that have the similar number of parameters. Let's see how the performance deviates."
      ]
    },
    {
      "cell_type": "markdown",
      "metadata": {
        "id": "s-OEOoPtPOv3"
      },
      "source": [
        "First, we load the CIFAR-10 dataset. This might take a couple minutes the first time you do it, but the files should stay cached after that.\n",
        "\n",
        "PyTorch provides convenient tools to automate the process of downloading\n",
        "common datasets, processing the data, and splitting into minibatches."
      ]
    },
    {
      "cell_type": "markdown",
      "metadata": {
        "id": "KRytExeRPOv4"
      },
      "source": [
        "You have an option to **use GPU by setting the flag to True below**. It is recommended, but not necessary to use GPU for this assignment. Note that if your computer does not have CUDA enabled, `torch.cuda.is_available()` will return False and this notebook will fallback to CPU mode.\n",
        "\n",
        "The global variables `dtype` and `device` will control the data types throughout this assignment.\n",
        "\n",
        "## Colab Users\n",
        "\n",
        "If you are using Colab, you need to manually switch to a GPU device. You can do this by clicking `Runtime -> Change runtime type` and selecting `GPU` under `Hardware Accelerator`. Note that you have to rerun the cells from the top since the kernel gets restarted upon switching runtimes."
      ]
    },
    {
      "cell_type": "code",
      "execution_count": 2,
      "metadata": {
        "id": "kuU1DDSYPOv4",
        "colab": {
          "base_uri": "https://localhost:8080/"
        },
        "outputId": "ef53ee5e-a72e-48db-f908-246dd1303c89"
      },
      "outputs": [
        {
          "output_type": "stream",
          "name": "stdout",
          "text": [
            "using device: cuda\n"
          ]
        }
      ],
      "source": [
        "USE_GPU = True\n",
        "\n",
        "dtype = torch.float32 # we will be using float throughout this tutorial\n",
        "\n",
        "if USE_GPU and torch.cuda.is_available():\n",
        "    device = torch.device('cuda')\n",
        "else:\n",
        "    device = torch.device('cpu')\n",
        "\n",
        "# Constant to control how frequently we print train loss\n",
        "print_every = 500\n",
        "\n",
        "print('using device:', device)"
      ]
    },
    {
      "cell_type": "markdown",
      "metadata": {
        "id": "r2TaUgumPOv6"
      },
      "source": [
        "## **Part A. Translational Equivariance**\n",
        "\n",
        "In this problem, we will check that CNN is translationally equivariant and MLP is not."
      ]
    },
    {
      "cell_type": "code",
      "execution_count": 3,
      "metadata": {
        "id": "jI6ELnlVPOv6"
      },
      "outputs": [],
      "source": [
        "## Some helpers\n",
        "def torch_to_numpy(tensor):\n",
        "    tensor = tensor.cpu().detach().numpy()\n",
        "    return tensor\n",
        "\n",
        "def preprocess_mnist_data(data):\n",
        "    # padding tuples: (padding_left, padding_right, padding_top, padding_bottom)\n",
        "    # data1 = F.pad(data, (0, 28, 0, 28), mode='constant', value=0)\n",
        "    # data2 = F.pad(data, (28, 0, 0, 28), mode='constant', value=0)\n",
        "    # data3 = F.pad(data, (0, 28, 28, 0), mode='constant', value=0)\n",
        "    # data4 = F.pad(data, (28, 0, 28, 0), mode='constant', value=0)\n",
        "    # data = torch.cat((data1, data2, data3, data4), dim=0)\n",
        "\n",
        "    padded_data_list = []\n",
        "\n",
        "    for i in range(0, 28, 4):\n",
        "        for j in range(0, 28, 4):\n",
        "            padded_data_list.append(F.pad(data, (i, 28-i, j, 28-j), mode='constant', value=0))\n",
        "\n",
        "    padded_data = torch.stack(padded_data_list, dim=0)\n",
        "\n",
        "    return padded_data\n",
        "\n",
        "class CNN(nn.Module):\n",
        "    def __init__(self):\n",
        "        super().__init__()\n",
        "        self.conv1 = nn.Conv2d(1, 20, 3, 1, padding=1)\n",
        "        self.conv2 = nn.Conv2d(20, 40, 3, 1, padding=1)\n",
        "        self.conv3 = nn.Conv2d(40, 1, 3, 1, padding=1)\n",
        "        # self.conv4 = nn.Conv2d(40, 1, 3, 1, padding=1)\n",
        "    def forward(self, x):\n",
        "        x = F.relu(self.conv1(x))\n",
        "        x = F.relu(self.conv2(x))\n",
        "        x = F.relu(self.conv3(x))\n",
        "        # x = F.relu(self.conv4(x))\n",
        "        return x\n",
        "\n",
        "class MLP(nn.Module):\n",
        "    def __init__(self):\n",
        "        super().__init__()\n",
        "        self.fc1 = nn.Linear(56*56, 100)\n",
        "        self.fc2 = nn.Linear(100, 100)\n",
        "        self.fc3 = nn.Linear(100, 56*56)\n",
        "\n",
        "    def forward(self, x):\n",
        "        bs = x.shape[0]\n",
        "        x = x.flatten(start_dim=1)\n",
        "        x = F.relu(self.fc1(x))\n",
        "        x = F.relu(self.fc2(x))\n",
        "        x = F.relu(self.fc3(x))\n",
        "        x = x.reshape((bs, 1, 56, 56))\n",
        "\n",
        "        return x\n"
      ]
    },
    {
      "cell_type": "markdown",
      "metadata": {
        "id": "eqNYQPw4POv7"
      },
      "source": [
        "### Generate the sample data"
      ]
    },
    {
      "cell_type": "code",
      "execution_count": 4,
      "metadata": {
        "id": "wuCfMPkvPOv7",
        "colab": {
          "base_uri": "https://localhost:8080/"
        },
        "outputId": "8661e1c2-dc21-4fde-8091-52619478a964"
      },
      "outputs": [
        {
          "output_type": "stream",
          "name": "stderr",
          "text": [
            "100%|██████████| 9.91M/9.91M [00:00<00:00, 18.5MB/s]\n",
            "100%|██████████| 28.9k/28.9k [00:00<00:00, 508kB/s]\n",
            "100%|██████████| 1.65M/1.65M [00:00<00:00, 4.58MB/s]\n",
            "100%|██████████| 4.54k/4.54k [00:00<00:00, 9.94MB/s]"
          ]
        },
        {
          "output_type": "stream",
          "name": "stdout",
          "text": [
            "torch.Size([49, 1, 56, 56])\n"
          ]
        },
        {
          "output_type": "stream",
          "name": "stderr",
          "text": [
            "\n"
          ]
        }
      ],
      "source": [
        "mnist_train = dset.MNIST('./deeplearning/datasets', train=True, download=True)\n",
        "sample_index = 12\n",
        "mnist_sample = mnist_train[sample_index][0]\n",
        "mnist_sample = T.functional.pil_to_tensor(mnist_sample)\n",
        "\n",
        "mnist_sample = preprocess_mnist_data(mnist_sample)\n",
        "print(mnist_sample.shape)"
      ]
    },
    {
      "cell_type": "markdown",
      "metadata": {
        "id": "TIIFR18GPOv7"
      },
      "source": [
        "### Visualize the output of MLP and CNN with different translations"
      ]
    },
    {
      "cell_type": "code",
      "execution_count": 5,
      "metadata": {
        "id": "b3hIi7dHPOv7"
      },
      "outputs": [],
      "source": [
        "# !pip3 install ipywidgets"
      ]
    },
    {
      "cell_type": "code",
      "execution_count": 6,
      "metadata": {
        "id": "LxGEIjPSPOv7"
      },
      "outputs": [],
      "source": [
        "from ipywidgets import interactive, widgets, Layout"
      ]
    },
    {
      "cell_type": "code",
      "execution_count": 7,
      "metadata": {
        "id": "M9m8i6fJPOv8"
      },
      "outputs": [],
      "source": [
        "cnn_model = CNN().to(device)\n",
        "mlp_model = MLP().to(device)\n",
        "\n",
        "mnist_sample = mnist_sample.to(device)\n",
        "# Convert to float32\n",
        "mnist_sample = mnist_sample.float()\n",
        "\n",
        "cnn_output = torch_to_numpy(cnn_model(mnist_sample))\n",
        "mlp_output = torch_to_numpy(mlp_model(mnist_sample))\n",
        "mnist_sample = torch_to_numpy(mnist_sample)"
      ]
    },
    {
      "cell_type": "code",
      "execution_count": 8,
      "metadata": {
        "id": "gbrfN8CwPOv8",
        "colab": {
          "base_uri": "https://localhost:8080/",
          "height": 474,
          "referenced_widgets": [
            "e8cebf7ff3384fcbb83214eacc03c11b",
            "787939a666fd4123b31951e82ef85c59",
            "878cb512eb1d42678052dd43ee01b7bd",
            "570c55b41929404bb306b7ef6571989c",
            "47335d629cc843ce85e3772b9fe1d007",
            "29214ea1efe047a4a874bec96c196b20",
            "a0acf582f4d749458d015d9afee8142e"
          ]
        },
        "outputId": "7981803d-db9e-443c-eab1-361780e5d126"
      },
      "outputs": [
        {
          "output_type": "display_data",
          "data": {
            "text/plain": [
              "interactive(children=(IntSlider(value=0, description='i', max=48), Output()), _dom_classes=('widget-interact',…"
            ],
            "application/vnd.jupyter.widget-view+json": {
              "version_major": 2,
              "version_minor": 0,
              "model_id": "e8cebf7ff3384fcbb83214eacc03c11b"
            }
          },
          "metadata": {}
        },
        {
          "output_type": "display_data",
          "data": {
            "text/plain": [
              "<Figure size 500x500 with 0 Axes>"
            ]
          },
          "metadata": {}
        }
      ],
      "source": [
        "fig = plt.figure(figsize=(5, 5))\n",
        "\n",
        "# Main update function for interactive plot\n",
        "def update_images(i):\n",
        "    fig.clear()\n",
        "    f, axarr = plt.subplots(1,3, figsize=(15, 5))\n",
        "\n",
        "    # Show the images\n",
        "    axarr[0].imshow(mnist_sample[i, 0, :, :])\n",
        "    axarr[1].imshow(cnn_output[i, 0, :, :])\n",
        "    axarr[2].imshow(mlp_output[i, 0, :, :])\n",
        "\n",
        "    # Set the titles\n",
        "    axarr[0].set_title('Input Image')\n",
        "    axarr[1].set_title('CNN Output')\n",
        "    axarr[2].set_title('MLP Output')\n",
        "\n",
        "    plt.axis('off')\n",
        "    plt.show()\n",
        "\n",
        "# Create interactive plot\n",
        "ip = interactive(update_images, i=widgets.IntSlider(min=0, max=48, step=1, value=0))\n",
        "ip"
      ]
    },
    {
      "cell_type": "markdown",
      "metadata": {
        "id": "QivKjR8jPOv8"
      },
      "source": [
        "#### Q. What do you observe about the CNN outputs? Why is it different from the case of the MLP?\n",
        "\n",
        "A. The CNN is translationally equivariant, the MLP output is different for different translations of the input\n",
        "\n",
        "#### Q. Note that even though the CNN is not trained, the feature maps not only are still translationally equivariant but also extract a quite good features. Why is it so?\n",
        "\n",
        "A. The CNN is translationally equivariant because you are computing the same filter over all regions\n"
      ]
    },
    {
      "cell_type": "markdown",
      "metadata": {
        "id": "ApoTwjRHPOv4"
      },
      "source": [
        "## **Part B. Training CNN and MLP on CIFAR10**\n",
        "\n",
        "In this part, we will be training MLP and CNN networks on CIFAR10 dataset (https://www.cs.toronto.edu/~kriz/cifar.html)"
      ]
    },
    {
      "cell_type": "code",
      "execution_count": 9,
      "metadata": {
        "id": "pYXzVOtMPOv4",
        "colab": {
          "base_uri": "https://localhost:8080/"
        },
        "outputId": "c41ed3a7-2125-4eaf-8d20-d6e4c90f5331"
      },
      "outputs": [
        {
          "output_type": "stream",
          "name": "stderr",
          "text": [
            "100%|██████████| 170M/170M [00:03<00:00, 43.7MB/s]\n"
          ]
        }
      ],
      "source": [
        "NUM_TRAIN = 49000\n",
        "\n",
        "# The torchvision.transforms package provides tools for preprocessing data\n",
        "# and for performing data augmentation; here we set up a transform to\n",
        "# preprocess the data by subtracting the mean RGB value and dividing by the\n",
        "# standard deviation of each RGB value; we've hardcoded the mean and std.\n",
        "# If we want to add data augmentations, torchvision also offers different\n",
        "# transformations that we can compose in here, though we would need to be sure\n",
        "# to have two sets of transformations: one with data augmentation for the\n",
        "# training loaders, and one without for the test and validation sets.\n",
        "transform = T.Compose([\n",
        "                T.ToTensor(),\n",
        "                T.Normalize((0.4914, 0.4822, 0.4465), (0.2023, 0.1994, 0.2010))\n",
        "            ])\n",
        "\n",
        "# We set up a Dataset object for each split (train / val / test); Datasets load\n",
        "# training examples one at a time, so we wrap each Dataset in a DataLoader which\n",
        "# iterates through the Dataset and forms minibatches. We divide the CIFAR-10\n",
        "# training set into train and val sets by passing a Sampler object to the\n",
        "# DataLoader telling how it should sample from the underlying Dataset.\n",
        "cifar10_train = dset.CIFAR10('./deeplearning/datasets', train=True, download=True,\n",
        "                             transform=transform)\n",
        "loader_train = DataLoader(cifar10_train, batch_size=64,\n",
        "                          sampler=sampler.SubsetRandomSampler(range(NUM_TRAIN)))\n",
        "\n",
        "cifar10_val = dset.CIFAR10('./deeplearning/datasets', train=True, download=True,\n",
        "                           transform=transform)\n",
        "loader_val = DataLoader(cifar10_val, batch_size=64,\n",
        "                        sampler=sampler.SubsetRandomSampler(range(NUM_TRAIN, 50000)))\n",
        "\n",
        "cifar10_test = dset.CIFAR10('./deeplearning/datasets', train=False, download=True,\n",
        "                            transform=transform)\n",
        "loader_test = DataLoader(cifar10_test, batch_size=64)"
      ]
    },
    {
      "cell_type": "markdown",
      "metadata": {
        "id": "hXnw6YCM6YNZ"
      },
      "source": [
        "### Training Helpers"
      ]
    },
    {
      "cell_type": "code",
      "execution_count": 10,
      "metadata": {
        "id": "PJZy86kqPOv5"
      },
      "outputs": [],
      "source": [
        "def check_valid_accuracy(loader, model):\n",
        "    # print('Checking accuracy on validation set')\n",
        "    if not loader.dataset.train:\n",
        "        print('Checking accuracy on test set')\n",
        "    num_correct = 0\n",
        "    num_samples = 0\n",
        "    model.eval()  # set model to evaluation mode\n",
        "    with torch.no_grad():\n",
        "        for x, y in loader:\n",
        "            x = x.to(device=device, dtype=dtype)  # move to device, e.g. GPU\n",
        "            y = y.to(device=device, dtype=torch.long)\n",
        "            scores = model(x)\n",
        "            _, preds = scores.max(1)\n",
        "            num_correct += (preds == y).sum()\n",
        "            num_samples += preds.size(0)\n",
        "        acc = float(num_correct) / num_samples\n",
        "        # print('Got %d / %d correct (%.2f)' % (num_correct, num_samples, 100 * acc))\n",
        "    return acc\n",
        "\n",
        "def train_model(model, optimizer, epochs=1):\n",
        "    \"\"\"\n",
        "    Train a model on CIFAR-10 using the PyTorch Module API and prints model\n",
        "    accuracies during training.\n",
        "\n",
        "    Inputs:\n",
        "    - model: A PyTorch Module giving the model to train.\n",
        "    - optimizer: An Optimizer object we will use to train the model\n",
        "    - epochs: (Optional) A Python integer giving the number of epochs to train for\n",
        "\n",
        "    Returns: Lists of validation accuracies at the end of each epoch.\n",
        "    \"\"\"\n",
        "    model = model.to(device=device)  # move the model parameters to CPU/GPU\n",
        "    train_accs = []\n",
        "    val_accs = []\n",
        "    for e in range(epochs):\n",
        "        for t, (x, y) in enumerate(loader_train):\n",
        "            model.train()  # put model to training mode\n",
        "            x = x.to(device=device, dtype=dtype)  # move to device, e.g. GPU\n",
        "            y = y.to(device=device, dtype=torch.long)\n",
        "\n",
        "            scores = model(x)\n",
        "            loss = F.cross_entropy(scores, y)\n",
        "\n",
        "            # Zero out all of the gradients for the variables which the optimizer\n",
        "            # will update.\n",
        "            optimizer.zero_grad()\n",
        "\n",
        "            # This is the backwards pass: compute the gradient of the loss with\n",
        "            # respect to each trainable parameter of the model.\n",
        "            loss.backward()\n",
        "\n",
        "            # Actually update the parameters of the model using the gradients\n",
        "            # computed by the backwards pass.\n",
        "            optimizer.step()\n",
        "\n",
        "            if t % print_every == 0:\n",
        "                acc = check_valid_accuracy(loader_val, model)\n",
        "                print(f\"Epoch [{e}/{epochs}]: Iter {t}, loss = {round(loss.item(), 4)}, validation accuracy = {100*acc}%\")\n",
        "        val_accs.append(check_valid_accuracy(loader_val, model))\n",
        "    return val_accs"
      ]
    },
    {
      "cell_type": "markdown",
      "metadata": {
        "id": "3f5KiiFnPOv5"
      },
      "source": [
        "### Define 3 Layer MLP and CNN"
      ]
    },
    {
      "cell_type": "code",
      "execution_count": 11,
      "metadata": {
        "id": "w5mfl0AnPOv5"
      },
      "outputs": [],
      "source": [
        "class ThreeLayerConvNet(nn.Module):\n",
        "    def __init__(self, in_channel, channel_1, channel_2, num_classes):\n",
        "        super().__init__()\n",
        "        self.conv1 = nn.Conv2d(in_channel, channel_1, 5, stride=1, padding=2)\n",
        "        self.conv2 = nn.Conv2d(channel_1, channel_2, 3, stride=1, padding=1)\n",
        "        self.classifier = nn.Linear(channel_2 * 32 * 32, num_classes)\n",
        "\n",
        "    def forward(self, x):\n",
        "        x = self.conv1(x)\n",
        "        x = F.relu(x)\n",
        "        x = self.conv2(x)\n",
        "        x = F.relu(x)\n",
        "        x = x.flatten(start_dim=1)\n",
        "        x = self.classifier(x)\n",
        "\n",
        "        return x\n",
        "\n",
        "class ThreeLayerMLP(nn.Module):\n",
        "    def __init__(self, input_size, hidden_size, num_classes):\n",
        "        super().__init__()\n",
        "        self.fc1 = nn.Linear(input_size, hidden_size)\n",
        "        self.fc2 = nn.Linear(hidden_size, hidden_size)\n",
        "        self.classifier = nn.Linear(hidden_size, num_classes)\n",
        "\n",
        "    def forward(self, x):\n",
        "        x = x.flatten(start_dim=1)\n",
        "        x = self.fc1(x)\n",
        "        x=  F.relu(x)\n",
        "        x = self.fc2(x)\n",
        "        x = F.relu(x)\n",
        "        x = self.classifier(x)\n",
        "\n",
        "        return x"
      ]
    },
    {
      "cell_type": "markdown",
      "metadata": {
        "id": "GWyXQQC4POv6"
      },
      "source": [
        "### Count the number of parameters\n",
        "\n",
        "Note that with the given architecture hyperparameters, the number of parameters of MLP model is slightly larger than that of CNN."
      ]
    },
    {
      "cell_type": "code",
      "execution_count": 12,
      "metadata": {
        "id": "JvsLCSTCPOv6",
        "colab": {
          "base_uri": "https://localhost:8080/"
        },
        "outputId": "1d01f8e9-197c-444e-93d9-914e7a7f448d"
      },
      "outputs": [
        {
          "output_type": "stream",
          "name": "stdout",
          "text": [
            "# of params in MLP model : 1201910\n",
            "# of params in CNN model : 1121710\n"
          ]
        }
      ],
      "source": [
        "def count_parameters(model):\n",
        "    num_params = sum(p.numel() for p in model.parameters())\n",
        "    return num_params\n",
        "\n",
        "input_size = 3 * 32 * 32\n",
        "in_channel = 3\n",
        "channel_1 = 100\n",
        "channel_2 = 100\n",
        "num_classes = 10\n",
        "hidden_size = 350\n",
        "\n",
        "mlp_model = ThreeLayerMLP(input_size, hidden_size, num_classes)\n",
        "cnn_model = ThreeLayerConvNet(in_channel, channel_1, channel_2, num_classes)\n",
        "\n",
        "num_params_mlp = count_parameters(mlp_model)\n",
        "num_params_cnn = count_parameters(cnn_model)\n",
        "\n",
        "print(f\"# of params in MLP model : {num_params_mlp}\")\n",
        "print(f\"# of params in CNN model : {num_params_cnn}\")\n"
      ]
    },
    {
      "cell_type": "markdown",
      "metadata": {
        "id": "bkTwgkDhPOv6"
      },
      "source": [
        "### Training the model\n",
        "Now we will train both MLP and CNN."
      ]
    },
    {
      "cell_type": "code",
      "execution_count": 13,
      "metadata": {
        "id": "bSQx4XexPOv6",
        "colab": {
          "base_uri": "https://localhost:8080/"
        },
        "outputId": "f723d6be-4c8c-45da-cd8f-bb3b3876ff8d"
      },
      "outputs": [
        {
          "output_type": "stream",
          "name": "stdout",
          "text": [
            "Start MLP training...\n",
            "Epoch [0/5]: Iter 0, loss = 2.3296, validation accuracy = 9.700000000000001%\n",
            "Epoch [0/5]: Iter 500, loss = 1.7293, validation accuracy = 39.1%\n",
            "Epoch [1/5]: Iter 0, loss = 1.8127, validation accuracy = 42.699999999999996%\n",
            "Epoch [1/5]: Iter 500, loss = 1.633, validation accuracy = 46.9%\n",
            "Epoch [2/5]: Iter 0, loss = 1.166, validation accuracy = 47.199999999999996%\n",
            "Epoch [2/5]: Iter 500, loss = 1.1551, validation accuracy = 48.4%\n",
            "Epoch [3/5]: Iter 0, loss = 1.6232, validation accuracy = 50.3%\n",
            "Epoch [3/5]: Iter 500, loss = 1.2292, validation accuracy = 50.4%\n",
            "Epoch [4/5]: Iter 0, loss = 1.0983, validation accuracy = 52.0%\n",
            "Epoch [4/5]: Iter 500, loss = 1.306, validation accuracy = 51.7%\n",
            "Start CNN training...\n",
            "Epoch [0/5]: Iter 0, loss = 2.2981, validation accuracy = 15.7%\n",
            "Epoch [0/5]: Iter 500, loss = 1.4187, validation accuracy = 53.0%\n",
            "Epoch [1/5]: Iter 0, loss = 1.3846, validation accuracy = 55.400000000000006%\n",
            "Epoch [1/5]: Iter 500, loss = 1.2419, validation accuracy = 59.599999999999994%\n",
            "Epoch [2/5]: Iter 0, loss = 1.2694, validation accuracy = 56.699999999999996%\n",
            "Epoch [2/5]: Iter 500, loss = 1.086, validation accuracy = 62.8%\n",
            "Epoch [3/5]: Iter 0, loss = 1.0752, validation accuracy = 63.0%\n",
            "Epoch [3/5]: Iter 500, loss = 1.0926, validation accuracy = 64.0%\n",
            "Epoch [4/5]: Iter 0, loss = 0.9957, validation accuracy = 64.60000000000001%\n",
            "Epoch [4/5]: Iter 500, loss = 0.714, validation accuracy = 66.2%\n"
          ]
        }
      ],
      "source": [
        "learning_rate = 1e-2\n",
        "\n",
        "mlp_optimizer = optim.SGD(mlp_model.parameters(), lr=learning_rate)\n",
        "cnn_optimizer = optim.SGD(cnn_model.parameters(), lr=learning_rate)\n",
        "\n",
        "# total_epochs = 2\n",
        "total_epochs = 5\n",
        "\n",
        "print(\"Start MLP training...\")\n",
        "mlp_accuracy = train_model(mlp_model, mlp_optimizer, total_epochs)\n",
        "print(\"Start CNN training...\")\n",
        "cnn_accuracy = train_model(cnn_model, cnn_optimizer, total_epochs)"
      ]
    },
    {
      "cell_type": "markdown",
      "metadata": {
        "id": "CnhwA3scPOv6"
      },
      "source": [
        "#### Q. What is the final accuracy of MLP and CNN models? Why are they different?\n",
        "\n",
        "A. MLP: 51.7%, CNN: 66.2%\n",
        "\n",
        "#### Q. What would happen if we froze the CNN backbone and trained only the final layer? How would you implement it?\n",
        "\n",
        "A. If we froze the CNN backbone, the validation accuracy would be worse because we aren't utilizing the feature extraction from the previous layers"
      ]
    },
    {
      "cell_type": "markdown",
      "metadata": {
        "id": "1j_0VNjEDgJy"
      },
      "source": [
        "Below is one example implementation of training a linear layer on top of a frozen CNN backbone. Run the following cells and compare the accuracy and number of parameters with the previous results."
      ]
    },
    {
      "cell_type": "code",
      "execution_count": 15,
      "metadata": {
        "id": "tuHIVcM4DgJy"
      },
      "outputs": [],
      "source": [
        "class ThreeLayerConvNetDetached(nn.Module):\n",
        "    def __init__(self, in_channel, channel_1, channel_2, num_classes):\n",
        "        super().__init__()\n",
        "        self.conv1 = nn.Conv2d(in_channel, channel_1, 5, stride=1, padding=2)\n",
        "        self.conv2 = nn.Conv2d(channel_1, channel_2, 3, stride=1, padding=1)\n",
        "        self.classifier = nn.Linear(channel_2 * 32 * 32, num_classes)\n",
        "\n",
        "    def forward(self, x):\n",
        "        x = self.conv1(x)\n",
        "        x = F.relu(x)\n",
        "        x = self.conv2(x)\n",
        "        x = F.relu(x)\n",
        "        x = x.flatten(start_dim=1).detach()\n",
        "        x = self.classifier(x)\n",
        "\n",
        "        return x"
      ]
    },
    {
      "cell_type": "code",
      "execution_count": 16,
      "metadata": {
        "id": "_XvCP7zwDgJy"
      },
      "outputs": [],
      "source": [
        "detached_cnn_model = ThreeLayerConvNetDetached(in_channel, channel_1, channel_2, num_classes)\n",
        "detached_cnn_optimizer = optim.SGD(detached_cnn_model.parameters(), lr=learning_rate)"
      ]
    },
    {
      "cell_type": "code",
      "execution_count": 17,
      "metadata": {
        "id": "8CcT-_3VDgJy",
        "colab": {
          "base_uri": "https://localhost:8080/"
        },
        "outputId": "07bafd3e-d263-4f33-e17c-65b5243aa6e4"
      },
      "outputs": [
        {
          "output_type": "stream",
          "name": "stdout",
          "text": [
            "Start Detached CNN training...\n",
            "Epoch [0/5]: Iter 0, loss = 2.3032, validation accuracy = 8.7%\n",
            "Epoch [0/5]: Iter 500, loss = 1.6827, validation accuracy = 43.3%\n",
            "Epoch [1/5]: Iter 0, loss = 1.7582, validation accuracy = 41.699999999999996%\n",
            "Epoch [1/5]: Iter 500, loss = 2.0645, validation accuracy = 41.3%\n",
            "Epoch [2/5]: Iter 0, loss = 1.5719, validation accuracy = 45.4%\n",
            "Epoch [2/5]: Iter 500, loss = 1.4043, validation accuracy = 46.2%\n",
            "Epoch [3/5]: Iter 0, loss = 1.2949, validation accuracy = 38.9%\n",
            "Epoch [3/5]: Iter 500, loss = 1.2024, validation accuracy = 51.7%\n",
            "Epoch [4/5]: Iter 0, loss = 1.598, validation accuracy = 47.8%\n",
            "Epoch [4/5]: Iter 500, loss = 1.2087, validation accuracy = 51.300000000000004%\n"
          ]
        }
      ],
      "source": [
        "print(\"Start Detached CNN training...\")\n",
        "detached_cnn_accuracy = train_model(detached_cnn_model, detached_cnn_optimizer, total_epochs)"
      ]
    },
    {
      "cell_type": "markdown",
      "metadata": {
        "id": "91vCG6CEDgJy"
      },
      "source": [
        "#### Q. How does the accuracy and number of parameters change compared to the previous MLP and CNN models? Why do you think this is?\n",
        "\n",
        "A. Accuracy is worse, parameters is less. This is because we have less parameters that we are able to train\n",
        "\n",
        "#### Q. How many trainable parameters are there in this new model?\n",
        "\n",
        "A. 100\\*32\\*32\\*10"
      ]
    },
    {
      "cell_type": "markdown",
      "metadata": {
        "id": "ww83fXHXDgJy"
      },
      "source": []
    }
  ],
  "metadata": {
    "accelerator": "GPU",
    "colab": {
      "gpuType": "T4",
      "provenance": [],
      "include_colab_link": true
    },
    "kernelspec": {
      "display_name": "Python 3",
      "name": "python3"
    },
    "language_info": {
      "codemirror_mode": {
        "name": "ipython",
        "version": 3
      },
      "file_extension": ".py",
      "mimetype": "text/x-python",
      "name": "python",
      "nbconvert_exporter": "python",
      "pygments_lexer": "ipython3",
      "version": "3.9.16"
    },
    "vscode": {
      "interpreter": {
        "hash": "9604dfe0e4c72ca50dc6ed9879659f643ef83f1cac17a709ea514e2e16450d20"
      }
    },
    "widgets": {
      "application/vnd.jupyter.widget-state+json": {
        "e8cebf7ff3384fcbb83214eacc03c11b": {
          "model_module": "@jupyter-widgets/controls",
          "model_name": "VBoxModel",
          "model_module_version": "1.5.0",
          "state": {
            "_dom_classes": [
              "widget-interact"
            ],
            "_model_module": "@jupyter-widgets/controls",
            "_model_module_version": "1.5.0",
            "_model_name": "VBoxModel",
            "_view_count": null,
            "_view_module": "@jupyter-widgets/controls",
            "_view_module_version": "1.5.0",
            "_view_name": "VBoxView",
            "box_style": "",
            "children": [
              "IPY_MODEL_787939a666fd4123b31951e82ef85c59",
              "IPY_MODEL_878cb512eb1d42678052dd43ee01b7bd"
            ],
            "layout": "IPY_MODEL_570c55b41929404bb306b7ef6571989c"
          }
        },
        "787939a666fd4123b31951e82ef85c59": {
          "model_module": "@jupyter-widgets/controls",
          "model_name": "IntSliderModel",
          "model_module_version": "1.5.0",
          "state": {
            "_dom_classes": [],
            "_model_module": "@jupyter-widgets/controls",
            "_model_module_version": "1.5.0",
            "_model_name": "IntSliderModel",
            "_view_count": null,
            "_view_module": "@jupyter-widgets/controls",
            "_view_module_version": "1.5.0",
            "_view_name": "IntSliderView",
            "continuous_update": true,
            "description": "i",
            "description_tooltip": null,
            "disabled": false,
            "layout": "IPY_MODEL_47335d629cc843ce85e3772b9fe1d007",
            "max": 48,
            "min": 0,
            "orientation": "horizontal",
            "readout": true,
            "readout_format": "d",
            "step": 1,
            "style": "IPY_MODEL_29214ea1efe047a4a874bec96c196b20",
            "value": 39
          }
        },
        "878cb512eb1d42678052dd43ee01b7bd": {
          "model_module": "@jupyter-widgets/output",
          "model_name": "OutputModel",
          "model_module_version": "1.0.0",
          "state": {
            "_dom_classes": [],
            "_model_module": "@jupyter-widgets/output",
            "_model_module_version": "1.0.0",
            "_model_name": "OutputModel",
            "_view_count": null,
            "_view_module": "@jupyter-widgets/output",
            "_view_module_version": "1.0.0",
            "_view_name": "OutputView",
            "layout": "IPY_MODEL_a0acf582f4d749458d015d9afee8142e",
            "msg_id": "",
            "outputs": [
              {
                "output_type": "display_data",
                "data": {
                  "text/plain": "<Figure size 1500x500 with 3 Axes>",
                  "image/png": "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\n"
                },
                "metadata": {}
              }
            ]
          }
        },
        "570c55b41929404bb306b7ef6571989c": {
          "model_module": "@jupyter-widgets/base",
          "model_name": "LayoutModel",
          "model_module_version": "1.2.0",
          "state": {
            "_model_module": "@jupyter-widgets/base",
            "_model_module_version": "1.2.0",
            "_model_name": "LayoutModel",
            "_view_count": null,
            "_view_module": "@jupyter-widgets/base",
            "_view_module_version": "1.2.0",
            "_view_name": "LayoutView",
            "align_content": null,
            "align_items": null,
            "align_self": null,
            "border": null,
            "bottom": null,
            "display": null,
            "flex": null,
            "flex_flow": null,
            "grid_area": null,
            "grid_auto_columns": null,
            "grid_auto_flow": null,
            "grid_auto_rows": null,
            "grid_column": null,
            "grid_gap": null,
            "grid_row": null,
            "grid_template_areas": null,
            "grid_template_columns": null,
            "grid_template_rows": null,
            "height": null,
            "justify_content": null,
            "justify_items": null,
            "left": null,
            "margin": null,
            "max_height": null,
            "max_width": null,
            "min_height": null,
            "min_width": null,
            "object_fit": null,
            "object_position": null,
            "order": null,
            "overflow": null,
            "overflow_x": null,
            "overflow_y": null,
            "padding": null,
            "right": null,
            "top": null,
            "visibility": null,
            "width": null
          }
        },
        "47335d629cc843ce85e3772b9fe1d007": {
          "model_module": "@jupyter-widgets/base",
          "model_name": "LayoutModel",
          "model_module_version": "1.2.0",
          "state": {
            "_model_module": "@jupyter-widgets/base",
            "_model_module_version": "1.2.0",
            "_model_name": "LayoutModel",
            "_view_count": null,
            "_view_module": "@jupyter-widgets/base",
            "_view_module_version": "1.2.0",
            "_view_name": "LayoutView",
            "align_content": null,
            "align_items": null,
            "align_self": null,
            "border": null,
            "bottom": null,
            "display": null,
            "flex": null,
            "flex_flow": null,
            "grid_area": null,
            "grid_auto_columns": null,
            "grid_auto_flow": null,
            "grid_auto_rows": null,
            "grid_column": null,
            "grid_gap": null,
            "grid_row": null,
            "grid_template_areas": null,
            "grid_template_columns": null,
            "grid_template_rows": null,
            "height": null,
            "justify_content": null,
            "justify_items": null,
            "left": null,
            "margin": null,
            "max_height": null,
            "max_width": null,
            "min_height": null,
            "min_width": null,
            "object_fit": null,
            "object_position": null,
            "order": null,
            "overflow": null,
            "overflow_x": null,
            "overflow_y": null,
            "padding": null,
            "right": null,
            "top": null,
            "visibility": null,
            "width": null
          }
        },
        "29214ea1efe047a4a874bec96c196b20": {
          "model_module": "@jupyter-widgets/controls",
          "model_name": "SliderStyleModel",
          "model_module_version": "1.5.0",
          "state": {
            "_model_module": "@jupyter-widgets/controls",
            "_model_module_version": "1.5.0",
            "_model_name": "SliderStyleModel",
            "_view_count": null,
            "_view_module": "@jupyter-widgets/base",
            "_view_module_version": "1.2.0",
            "_view_name": "StyleView",
            "description_width": "",
            "handle_color": null
          }
        },
        "a0acf582f4d749458d015d9afee8142e": {
          "model_module": "@jupyter-widgets/base",
          "model_name": "LayoutModel",
          "model_module_version": "1.2.0",
          "state": {
            "_model_module": "@jupyter-widgets/base",
            "_model_module_version": "1.2.0",
            "_model_name": "LayoutModel",
            "_view_count": null,
            "_view_module": "@jupyter-widgets/base",
            "_view_module_version": "1.2.0",
            "_view_name": "LayoutView",
            "align_content": null,
            "align_items": null,
            "align_self": null,
            "border": null,
            "bottom": null,
            "display": null,
            "flex": null,
            "flex_flow": null,
            "grid_area": null,
            "grid_auto_columns": null,
            "grid_auto_flow": null,
            "grid_auto_rows": null,
            "grid_column": null,
            "grid_gap": null,
            "grid_row": null,
            "grid_template_areas": null,
            "grid_template_columns": null,
            "grid_template_rows": null,
            "height": null,
            "justify_content": null,
            "justify_items": null,
            "left": null,
            "margin": null,
            "max_height": null,
            "max_width": null,
            "min_height": null,
            "min_width": null,
            "object_fit": null,
            "object_position": null,
            "order": null,
            "overflow": null,
            "overflow_x": null,
            "overflow_y": null,
            "padding": null,
            "right": null,
            "top": null,
            "visibility": null,
            "width": null
          }
        }
      }
    }
  },
  "nbformat": 4,
  "nbformat_minor": 0
}